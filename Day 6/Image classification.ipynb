{
 "cells": [
  {
   "cell_type": "code",
   "execution_count": 30,
   "id": "f7114e7a",
   "metadata": {},
   "outputs": [],
   "source": [
    "import tensorflow as tf\n",
    "from tensorflow import keras\n",
    "import matplotlib.pyplot as plt\n",
    "import pandas as pd\n",
    "import numpy as np"
   ]
  },
  {
   "cell_type": "code",
   "execution_count": 19,
   "id": "35a29a66",
   "metadata": {},
   "outputs": [
    {
     "data": {
      "text/plain": [
       "[PhysicalDevice(name='/physical_device:CPU:0', device_type='CPU')]"
      ]
     },
     "execution_count": 19,
     "metadata": {},
     "output_type": "execute_result"
    }
   ],
   "source": [
    "tf.config.experimental.list_physical_devices()"
   ]
  },
  {
   "cell_type": "code",
   "execution_count": 20,
   "id": "16852410",
   "metadata": {},
   "outputs": [
    {
     "name": "stdout",
     "output_type": "stream",
     "text": [
      "2.8.0\n"
     ]
    }
   ],
   "source": [
    "print(tf.__version__)"
   ]
  },
  {
   "cell_type": "code",
   "execution_count": 21,
   "id": "64a8f49c",
   "metadata": {},
   "outputs": [
    {
     "data": {
      "text/plain": [
       "True"
      ]
     },
     "execution_count": 21,
     "metadata": {},
     "output_type": "execute_result"
    }
   ],
   "source": [
    "tf.test.is_built_with_cuda()"
   ]
  },
  {
   "cell_type": "code",
   "execution_count": 22,
   "id": "11d547dc",
   "metadata": {},
   "outputs": [],
   "source": [
    "(x_train,y_train),(x_test,y_test) = tf.keras.datasets.cifar10.load_data()"
   ]
  },
  {
   "cell_type": "code",
   "execution_count": 23,
   "id": "f4ca307f",
   "metadata": {},
   "outputs": [
    {
     "data": {
      "text/plain": [
       "(50000, 32, 32, 3)"
      ]
     },
     "execution_count": 23,
     "metadata": {},
     "output_type": "execute_result"
    }
   ],
   "source": [
    "x_train.shape"
   ]
  },
  {
   "cell_type": "code",
   "execution_count": 24,
   "id": "81cc5044",
   "metadata": {},
   "outputs": [
    {
     "data": {
      "text/plain": [
       "array([[ 59,  62,  63],\n",
       "       [ 43,  46,  45],\n",
       "       [ 50,  48,  43],\n",
       "       [ 68,  54,  42],\n",
       "       [ 98,  73,  52],\n",
       "       [119,  91,  63],\n",
       "       [139, 107,  75],\n",
       "       [145, 110,  80],\n",
       "       [149, 117,  89],\n",
       "       [149, 120,  93],\n",
       "       [131, 103,  77],\n",
       "       [125,  99,  76],\n",
       "       [142, 115,  91],\n",
       "       [144, 112,  86],\n",
       "       [137, 105,  79],\n",
       "       [129,  97,  71],\n",
       "       [137, 106,  79],\n",
       "       [134, 106,  76],\n",
       "       [124,  97,  64],\n",
       "       [139, 113,  78],\n",
       "       [139, 112,  75],\n",
       "       [133, 105,  69],\n",
       "       [136, 105,  74],\n",
       "       [139, 108,  77],\n",
       "       [152, 120,  89],\n",
       "       [163, 131, 100],\n",
       "       [168, 136, 108],\n",
       "       [159, 129, 102],\n",
       "       [158, 130, 104],\n",
       "       [158, 132, 108],\n",
       "       [152, 125, 102],\n",
       "       [148, 124, 103]], dtype=uint8)"
      ]
     },
     "execution_count": 24,
     "metadata": {},
     "output_type": "execute_result"
    }
   ],
   "source": [
    "x_train[0][0]"
   ]
  },
  {
   "cell_type": "code",
   "execution_count": 31,
   "id": "de55d456",
   "metadata": {},
   "outputs": [],
   "source": [
    "def plot_sample(index):\n",
    "    plt.figure(figsize = (10,1))\n",
    "    plt.imshow(x_train[index])"
   ]
  },
  {
   "cell_type": "code",
   "execution_count": 33,
   "id": "de5c48fe",
   "metadata": {},
   "outputs": [
    {
     "data": {
      "image/png": "[encoded data removed]",
      "text/plain": [
       "<Figure size 720x72 with 1 Axes>"
      ]
     },
     "metadata": {
      "needs_background": "light"
     },
     "output_type": "display_data"
    }
   ],
   "source": [
    "plot_sample(2)"
   ]
  },
  {
   "cell_type": "code",
   "execution_count": 34,
   "id": "6d6ac8e6",
   "metadata": {},
   "outputs": [],
   "source": [
    "x_train_scaled = x_train /255\n",
    "x_test_scaled = x_test/255"
   ]
  },
  {
   "cell_type": "code",
   "execution_count": 35,
   "id": "7e2bdbb1",
   "metadata": {},
   "outputs": [
    {
     "data": {
      "text/plain": [
       "array([[0., 0., 0., 0., 0., 0., 1., 0., 0., 0.],\n",
       "       [0., 0., 0., 0., 0., 0., 0., 0., 0., 1.],\n",
       "       [0., 0., 0., 0., 0., 0., 0., 0., 0., 1.],\n",
       "       [0., 0., 0., 0., 1., 0., 0., 0., 0., 0.],\n",
       "       [0., 1., 0., 0., 0., 0., 0., 0., 0., 0.]], dtype=float32)"
      ]
     },
     "execution_count": 35,
     "metadata": {},
     "output_type": "execute_result"
    }
   ],
   "source": [
    "y_train_categorical = keras.utils.to_categorical(\n",
    "    y_train,num_classes=10,dtype = 'float32'\n",
    "\n",
    ")\n",
    "\n",
    "y_train_categorical[:5]"
   ]
  },
  {
   "cell_type": "code",
   "execution_count": 38,
   "id": "b7513a31",
   "metadata": {},
   "outputs": [
    {
     "data": {
      "text/plain": [
       "array([[0., 0., 0., 1., 0., 0., 0., 0., 0., 0.],\n",
       "       [0., 0., 0., 0., 0., 0., 0., 0., 1., 0.],\n",
       "       [0., 0., 0., 0., 0., 0., 0., 0., 1., 0.],\n",
       "       [1., 0., 0., 0., 0., 0., 0., 0., 0., 0.],\n",
       "       [0., 0., 0., 0., 0., 0., 1., 0., 0., 0.]], dtype=float32)"
      ]
     },
     "execution_count": 38,
     "metadata": {},
     "output_type": "execute_result"
    }
   ],
   "source": [
    "y_test_categorical = keras.utils.to_categorical(\n",
    "    y_test , num_classes=10,dtype='float32'\n",
    "\n",
    "\n",
    ")\n",
    "y_test_categorical[:5]"
   ]
  },
  {
   "cell_type": "code",
   "execution_count": 39,
   "id": "1875ae18",
   "metadata": {},
   "outputs": [
    {
     "data": {
      "text/plain": [
       "(50000, 32, 32, 3)"
      ]
     },
     "execution_count": 39,
     "metadata": {},
     "output_type": "execute_result"
    }
   ],
   "source": [
    "x_train_scaled.shape"
   ]
  },
  {
   "cell_type": "code",
   "execution_count": 41,
   "id": "c395f5b9",
   "metadata": {},
   "outputs": [],
   "source": [
    "model = keras.Sequential([\n",
    "    keras.layers.Flatten(input_shape=(32,32,3)),\n",
    "    keras.layers.Dense(3000,activation='relu'),\n",
    "    keras.layers.Dense(1000,activation='relu'),\n",
    "    keras.layers.Dense(10,activation='sigmoid')\n",
    "])\n",
    "\n",
    "model.compile (optimizer = 'SGD',\n",
    "                loss = 'categorical_crossentropy',\n",
    "                metrics=['accuracy'])\n",
    "\n"
   ]
  },
  {
   "cell_type": "code",
   "execution_count": 42,
   "id": "ce41dc34",
   "metadata": {},
   "outputs": [
    {
     "data": {
      "text/plain": [
       "array([[0., 0., 0., ..., 0., 0., 0.],\n",
       "       [0., 0., 0., ..., 0., 0., 1.],\n",
       "       [0., 0., 0., ..., 0., 0., 1.],\n",
       "       ...,\n",
       "       [0., 0., 0., ..., 0., 0., 1.],\n",
       "       [0., 1., 0., ..., 0., 0., 0.],\n",
       "       [0., 1., 0., ..., 0., 0., 0.]], dtype=float32)"
      ]
     },
     "execution_count": 42,
     "metadata": {},
     "output_type": "execute_result"
    }
   ],
   "source": [
    "y_train_categorical"
   ]
  },
  {
   "cell_type": "code",
   "execution_count": 43,
   "id": "10b83973",
   "metadata": {},
   "outputs": [
    {
     "name": "stdout",
     "output_type": "stream",
     "text": [
      "Epoch 1/50\n",
      "313/313 [==============================] - 28s 76ms/step - loss: 2.0076 - accuracy: 0.2728\n",
      "Epoch 2/50\n",
      "313/313 [==============================] - 17s 54ms/step - loss: 1.8131 - accuracy: 0.3600\n",
      "Epoch 3/50\n",
      "313/313 [==============================] - 17s 53ms/step - loss: 1.7273 - accuracy: 0.3914\n",
      "Epoch 4/50\n",
      "313/313 [==============================] - 17s 53ms/step - loss: 1.6715 - accuracy: 0.4164\n",
      "Epoch 5/50\n",
      "313/313 [==============================] - 17s 54ms/step - loss: 1.6177 - accuracy: 0.4329\n",
      "Epoch 6/50\n",
      "313/313 [==============================] - 17s 53ms/step - loss: 1.5779 - accuracy: 0.4510\n",
      "Epoch 7/50\n",
      "313/313 [==============================] - 17s 54ms/step - loss: 1.5404 - accuracy: 0.4670\n",
      "Epoch 8/50\n",
      "313/313 [==============================] - 17s 53ms/step - loss: 1.5069 - accuracy: 0.4740\n",
      "Epoch 9/50\n",
      "313/313 [==============================] - 17s 55ms/step - loss: 1.4796 - accuracy: 0.4815\n",
      "Epoch 10/50\n",
      "313/313 [==============================] - 17s 55ms/step - loss: 1.4474 - accuracy: 0.4916\n",
      "Epoch 11/50\n",
      "313/313 [==============================] - 17s 55ms/step - loss: 1.4124 - accuracy: 0.5070\n",
      "Epoch 12/50\n",
      "313/313 [==============================] - 17s 55ms/step - loss: 1.3889 - accuracy: 0.5175\n",
      "Epoch 13/50\n",
      "313/313 [==============================] - 17s 55ms/step - loss: 1.3668 - accuracy: 0.5213\n",
      "Epoch 14/50\n",
      "313/313 [==============================] - 17s 55ms/step - loss: 1.3290 - accuracy: 0.5396\n",
      "Epoch 15/50\n",
      "313/313 [==============================] - 17s 55ms/step - loss: 1.3071 - accuracy: 0.5493\n",
      "Epoch 16/50\n",
      "313/313 [==============================] - 17s 56ms/step - loss: 1.2824 - accuracy: 0.5524\n",
      "Epoch 17/50\n",
      "313/313 [==============================] - 18s 57ms/step - loss: 1.2642 - accuracy: 0.5636\n",
      "Epoch 18/50\n",
      "313/313 [==============================] - 17s 54ms/step - loss: 1.2302 - accuracy: 0.5756\n",
      "Epoch 19/50\n",
      "313/313 [==============================] - 17s 54ms/step - loss: 1.2048 - accuracy: 0.5858\n",
      "Epoch 20/50\n",
      "313/313 [==============================] - 17s 55ms/step - loss: 1.1856 - accuracy: 0.5969\n",
      "Epoch 21/50\n",
      "313/313 [==============================] - 17s 55ms/step - loss: 1.1599 - accuracy: 0.6027\n",
      "Epoch 22/50\n",
      "313/313 [==============================] - 17s 55ms/step - loss: 1.1401 - accuracy: 0.6080\n",
      "Epoch 23/50\n",
      "313/313 [==============================] - 17s 55ms/step - loss: 1.1115 - accuracy: 0.6187\n",
      "Epoch 24/50\n",
      "313/313 [==============================] - 17s 54ms/step - loss: 1.0868 - accuracy: 0.6292\n",
      "Epoch 25/50\n",
      "313/313 [==============================] - 17s 54ms/step - loss: 1.0663 - accuracy: 0.6402\n",
      "Epoch 26/50\n",
      "313/313 [==============================] - 17s 54ms/step - loss: 1.0489 - accuracy: 0.6411\n",
      "Epoch 27/50\n",
      "313/313 [==============================] - 19s 59ms/step - loss: 1.0185 - accuracy: 0.6506\n",
      "Epoch 28/50\n",
      "313/313 [==============================] - 19s 62ms/step - loss: 0.9940 - accuracy: 0.6674\n",
      "Epoch 29/50\n",
      "313/313 [==============================] - 20s 63ms/step - loss: 0.9630 - accuracy: 0.6755\n",
      "Epoch 30/50\n",
      "313/313 [==============================] - 20s 63ms/step - loss: 0.9500 - accuracy: 0.6808\n",
      "Epoch 31/50\n",
      "313/313 [==============================] - 18s 56ms/step - loss: 0.9320 - accuracy: 0.6896\n",
      "Epoch 32/50\n",
      "313/313 [==============================] - 17s 55ms/step - loss: 0.9003 - accuracy: 0.7017\n",
      "Epoch 33/50\n",
      "313/313 [==============================] - 17s 55ms/step - loss: 0.8804 - accuracy: 0.7076\n",
      "Epoch 34/50\n",
      "313/313 [==============================] - 17s 55ms/step - loss: 0.8613 - accuracy: 0.7182\n",
      "Epoch 35/50\n",
      "313/313 [==============================] - 17s 55ms/step - loss: 0.8294 - accuracy: 0.7218\n",
      "Epoch 36/50\n",
      "313/313 [==============================] - 18s 56ms/step - loss: 0.8171 - accuracy: 0.7328\n",
      "Epoch 37/50\n",
      "313/313 [==============================] - 17s 55ms/step - loss: 0.7849 - accuracy: 0.7489\n",
      "Epoch 38/50\n",
      "313/313 [==============================] - 17s 55ms/step - loss: 0.7647 - accuracy: 0.7536\n",
      "Epoch 39/50\n",
      "313/313 [==============================] - 17s 55ms/step - loss: 0.7565 - accuracy: 0.7511\n",
      "Epoch 40/50\n",
      "313/313 [==============================] - 17s 55ms/step - loss: 0.7226 - accuracy: 0.7682\n",
      "Epoch 41/50\n",
      "313/313 [==============================] - 17s 54ms/step - loss: 0.7101 - accuracy: 0.7695\n",
      "Epoch 42/50\n",
      "313/313 [==============================] - 17s 55ms/step - loss: 0.6878 - accuracy: 0.7850\n",
      "Epoch 43/50\n",
      "313/313 [==============================] - 17s 55ms/step - loss: 0.6683 - accuracy: 0.7871\n",
      "Epoch 44/50\n",
      "313/313 [==============================] - 17s 55ms/step - loss: 0.6440 - accuracy: 0.7931\n",
      "Epoch 45/50\n",
      "313/313 [==============================] - 17s 55ms/step - loss: 0.6282 - accuracy: 0.8007\n",
      "Epoch 46/50\n",
      "313/313 [==============================] - 17s 55ms/step - loss: 0.5983 - accuracy: 0.8137\n",
      "Epoch 47/50\n",
      "313/313 [==============================] - 17s 55ms/step - loss: 0.5894 - accuracy: 0.8194\n",
      "Epoch 48/50\n",
      "313/313 [==============================] - 17s 54ms/step - loss: 0.5689 - accuracy: 0.8263\n",
      "Epoch 49/50\n",
      "313/313 [==============================] - 17s 55ms/step - loss: 0.5517 - accuracy: 0.8334\n",
      "Epoch 50/50\n",
      "313/313 [==============================] - 17s 55ms/step - loss: 0.5379 - accuracy: 0.8411\n"
     ]
    },
    {
     "data": {
      "text/plain": [
       "<keras.callbacks.History at 0x1a568a69370>"
      ]
     },
     "execution_count": 43,
     "metadata": {},
     "output_type": "execute_result"
    }
   ],
   "source": [
    "model.fit(x_test_scaled,y_test_categorical,epochs=50)"
   ]
  },
  {
   "cell_type": "code",
   "execution_count": 44,
   "id": "4b83123b",
   "metadata": {},
   "outputs": [
    {
     "data": {
      "text/plain": [
       "array([[0.27179438, 0.46685526, 0.84908247, ..., 0.0026944 , 0.8759223 ,\n",
       "        0.02051127],\n",
       "       [0.7368921 , 0.92166203, 0.15411937, ..., 0.01950774, 0.9993891 ,\n",
       "        0.93234575],\n",
       "       [0.8278438 , 0.78865516, 0.21775538, ..., 0.09547052, 0.99739534,\n",
       "        0.57475275],\n",
       "       ...,\n",
       "       [0.00662354, 0.04657993, 0.96603763, ..., 0.3472439 , 0.17965591,\n",
       "        0.2700767 ],\n",
       "       [0.58535606, 0.97463405, 0.7886609 , ..., 0.06207314, 0.34100822,\n",
       "        0.04428601],\n",
       "       [0.29347163, 0.03937253, 0.86871195, ..., 0.97458357, 0.23760054,\n",
       "        0.03134379]], dtype=float32)"
      ]
     },
     "execution_count": 44,
     "metadata": {},
     "output_type": "execute_result"
    }
   ],
   "source": [
    "model.predict(x_test_scaled)"
   ]
  },
  {
   "cell_type": "code",
   "execution_count": null,
   "id": "2f6ae96f",
   "metadata": {},
   "outputs": [],
   "source": [
    " with tf.device('/GPU : 0')\n",
    "    cpu_model = get_model()\n",
    "    cpu_model.fit(x_train_scaled , y_train_categorical,epochs=1)"
   ]
  },
  {
   "cell_type": "code",
   "execution_count": null,
   "id": "cd0153db",
   "metadata": {},
   "outputs": [],
   "source": []
  }
 ],
 "metadata": {
  "kernelspec": {
   "display_name": "Python 3 (ipykernel)",
   "language": "python",
   "name": "python3"
  },
  "language_info": {
   "codemirror_mode": {
    "name": "ipython",
    "version": 3
   },
   "file_extension": ".py",
   "mimetype": "text/x-python",
   "name": "python",
   "nbconvert_exporter": "python",
   "pygments_lexer": "ipython3",
   "version": "3.8.8"
  }
 },
 "nbformat": 4,
 "nbformat_minor": 5
}
